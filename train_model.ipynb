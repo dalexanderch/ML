{
 "cells": [
  {
   "cell_type": "code",
   "execution_count": null,
   "id": "0cfd4427-9040-452d-8ed5-f701532c9f4e",
   "metadata": {},
   "outputs": [],
   "source": [
    "pip install mpld3"
   ]
  },
  {
   "cell_type": "code",
   "execution_count": 1,
   "id": "2d380df2-9b55-48a1-b948-6bb2b500885f",
   "metadata": {},
   "outputs": [],
   "source": [
    "#hide\n",
    "from nbdev.showdoc import *\n",
    "from IPython.display import HTML\n",
    "import pandas as pd\n",
    "import copy\n",
    "import warnings\n",
    "warnings.filterwarnings(\"ignore\")\n",
    "from glycowork.glycan_data.loader import df_species, glycan_binding, df_glycan\n",
    "from glycowork.motif.analysis import plot_embeddings, make_heatmap, characterize_monosaccharide, get_pvals_motifs\n",
    "from glycowork.motif.processing import presence_to_matrix\n",
    "from glycowork.motif.query import get_insight\n",
    "from glycowork.ml.model_training import train_ml_model, analyze_ml_model, get_mismatch\n",
    "from glycowork.ml.train_test_split import general_split\n",
    "from glycowork.network.biosynthesis import construct_network, plot_network, evoprune_network, highlight_network\n",
    "%load_ext autoreload\n",
    "%autoreload 2"
   ]
  },
  {
   "cell_type": "code",
   "execution_count": 2,
   "id": "dda13a17-86bb-49f8-bd75-79d9bf68e592",
   "metadata": {},
   "outputs": [],
   "source": [
    "vertebrate = [1 if k == 'Chordata' else 0 for k in df_species[df_species.Kingdom == 'Animalia'].Phylum.values.tolist()]\n"
   ]
  },
  {
   "cell_type": "code",
   "execution_count": 3,
   "id": "9f744eac-5872-4e0c-9641-7093162da554",
   "metadata": {},
   "outputs": [],
   "source": [
    "X_train, X_test, y_train, y_test = general_split(df_species[df_species.Kingdom == 'Animalia'].target.values.tolist(), vertebrate)\n"
   ]
  },
  {
   "cell_type": "code",
   "execution_count": 4,
   "id": "cc185f9e-f09c-4bef-9faf-3cb827b5d15d",
   "metadata": {},
   "outputs": [
    {
     "name": "stdout",
     "output_type": "stream",
     "text": [
      "\n",
      "Calculating Glycan Features...\n",
      "\n",
      "Training model...\n",
      "\n",
      "Evaluating model...\n",
      "Accuracy of trained model on separate validation set: 0.9302481556002683\n"
     ]
    }
   ],
   "source": [
    "model_ft, _, X_test = train_ml_model(X_train, X_test, y_train, y_test, feature_calc = True, feature_set = ['exhaustive'],\n",
    "                         return_features = True)"
   ]
  },
  {
   "cell_type": "code",
   "execution_count": null,
   "id": "4f725f10-9f1b-4f3a-811e-edafa37857df",
   "metadata": {},
   "outputs": [],
   "source": [
    "type(model_ft)"
   ]
  },
  {
   "cell_type": "code",
   "execution_count": null,
   "id": "e889df73-28ba-4285-8cca-8a1e29b3b98d",
   "metadata": {},
   "outputs": [],
   "source": []
  }
 ],
 "metadata": {
  "kernelspec": {
   "display_name": "Python 3 (ipykernel)",
   "language": "python",
   "name": "python3"
  },
  "language_info": {
   "codemirror_mode": {
    "name": "ipython",
    "version": 3
   },
   "file_extension": ".py",
   "mimetype": "text/x-python",
   "name": "python",
   "nbconvert_exporter": "python",
   "pygments_lexer": "ipython3",
   "version": "3.10.4"
  }
 },
 "nbformat": 4,
 "nbformat_minor": 5
}
